{
 "cells": [
  {
   "cell_type": "markdown",
   "metadata": {
    "colab_type": "text",
    "id": "tuHlALoxomGf"
   },
   "source": [
    "# Apparel Recommendations using Convolutional Neural Network"
   ]
  },
  {
   "cell_type": "markdown",
   "metadata": {
    "colab_type": "text",
    "id": "qaklMEqkomGk"
   },
   "source": [
    "## Get the feature vectors of all apparel images"
   ]
  },
  {
   "cell_type": "code",
   "execution_count": 1,
   "metadata": {
    "colab": {},
    "colab_type": "code",
    "id": "UsZZKNo3omGo",
    "outputId": "8fd226c3-bd75-46ea-ac0b-5464f02e343d"
   },
   "outputs": [
    {
     "name": "stderr",
     "output_type": "stream",
     "text": [
      "2024-09-21 23:22:16.099849: I tensorflow/core/platform/cpu_feature_guard.cc:210] This TensorFlow binary is optimized to use available CPU instructions in performance-critical operations.\n",
      "To enable the following instructions: AVX2 AVX512F FMA, in other operations, rebuild TensorFlow with the appropriate compiler flags.\n",
      "2024-09-21 23:22:16.958345: W tensorflow/compiler/tf2tensorrt/utils/py_utils.cc:38] TF-TRT Warning: Could not find TensorRT\n"
     ]
    }
   ],
   "source": [
    "import numpy as np\n",
    "# from keras.preprocessing.image import ImageDataGenerator\n",
    "from keras.models import Sequential\n",
    "from keras.layers import Dropout, Flatten, Dense\n",
    "from keras import applications\n",
    "from sklearn.metrics import pairwise_distances\n",
    "import matplotlib.pyplot as plt\n",
    "import requests\n",
    "from PIL import Image\n",
    "import pandas as pd\n",
    "import pickle\n",
    "from tensorflow.keras.preprocessing.image import ImageDataGenerator\n"
   ]
  },
  {
   "cell_type": "code",
   "execution_count": 3,
   "metadata": {
    "colab": {},
    "colab_type": "code",
    "id": "9_ZdsSPGomG0",
    "outputId": "28d5e485-5489-4e04-c64a-7db6692341ba",
    "scrolled": true
   },
   "outputs": [
    {
     "name": "stdout",
     "output_type": "stream",
     "text": [
      "Found 179 images belonging to 1 classes.\n",
      "Found 179 images.\n"
     ]
    },
    {
     "name": "stderr",
     "output_type": "stream",
     "text": [
      "/home/sudhanshu/anaconda3/lib/python3.11/site-packages/keras/src/trainers/data_adapters/py_dataset_adapter.py:121: UserWarning: Your `PyDataset` class should call `super().__init__(**kwargs)` in its constructor. `**kwargs` can include `workers`, `use_multiprocessing`, `max_queue_size`. Do not pass these arguments to `fit()`, as they will be ignored.\n",
      "  self._warn_if_super_not_called()\n"
     ]
    },
    {
     "name": "stdout",
     "output_type": "stream",
     "text": [
      "\u001b[1m16042/16042\u001b[0m \u001b[32m━━━━━━━━━━━━━━━━━━━━\u001b[0m\u001b[37m\u001b[0m \u001b[1m6s\u001b[0m 358us/step \n",
      "Bottleneck features shape: (179, 7, 7, 512)\n"
     ]
    },
    {
     "name": "stderr",
     "output_type": "stream",
     "text": [
      "2024-09-21 23:22:34.792242: W tensorflow/core/framework/local_rendezvous.cc:404] Local rendezvous is aborting with status: OUT_OF_RANGE: End of sequence\n",
      "/home/sudhanshu/anaconda3/lib/python3.11/contextlib.py:155: UserWarning: Your input ran out of data; interrupting training. Make sure that your dataset or generator can generate at least `steps_per_epoch * epochs` batches. You may need to use the `.repeat()` function when building your dataset.\n",
      "  self.gen.throw(typ, value, traceback)\n"
     ]
    }
   ],
   "source": [
    "from tensorflow.keras.preprocessing.image import ImageDataGenerator\n",
    "from tensorflow.keras import applications\n",
    "import numpy as np\n",
    "\n",
    "# dimensions of our images.\n",
    "img_width, img_height = 224, 224\n",
    "train_data_dir = 'images/'  # Make sure this path is correct\n",
    "nb_train_samples = 16042\n",
    "batch_size = 1\n",
    "\n",
    "def save_bottlebeck_features():\n",
    "    asins = []\n",
    "    datagen = ImageDataGenerator(rescale=1. / 255)\n",
    "\n",
    "    # build the VGG16 network\n",
    "    model = applications.VGG16(include_top=False, weights='imagenet')\n",
    "    \n",
    "    generator = datagen.flow_from_directory(\n",
    "        train_data_dir,\n",
    "        target_size=(img_width, img_height),\n",
    "        batch_size=batch_size,\n",
    "        class_mode=None,\n",
    "        shuffle=False)\n",
    "\n",
    "    print(f\"Found {generator.samples} images.\")  # Debugging generator\n",
    "\n",
    "    for i in generator.filenames:\n",
    "        asins.append(i[2:-5])\n",
    "\n",
    "    # Ensure the generator is yielding samples\n",
    "    if generator.samples > 0:\n",
    "        bottleneck_features_train = model.predict(generator, steps=nb_train_samples // batch_size)\n",
    "        \n",
    "        print(f\"Bottleneck features shape: {bottleneck_features_train.shape}\")  # Debugging output shape\n",
    "        \n",
    "        # Reshape based on actual output size\n",
    "        bottleneck_features_train = bottleneck_features_train.reshape(bottleneck_features_train.shape[0], -1)\n",
    "\n",
    "        np.save(open('models/16k_data_cnn_features.npy', 'wb'), bottleneck_features_train)\n",
    "        np.save(open('models/16k_data_cnn_feature_asins.npy', 'wb'), np.array(asins))\n",
    "    else:\n",
    "        print(\"No images found. Please check the data directory.\")\n",
    "\n",
    "save_bottlebeck_features()\n"
   ]
  },
  {
   "cell_type": "markdown",
   "metadata": {
    "colab_type": "text",
    "id": "i7dbnIH2omG7"
   },
   "source": [
    "# load the extracted features"
   ]
  },
  {
   "cell_type": "code",
   "execution_count": 5,
   "metadata": {
    "colab": {},
    "colab_type": "code",
    "id": "8IdB2CnGomG9"
   },
   "outputs": [],
   "source": [
    "# bottleneck_features_train = np.load('workshop/models/16k_data_cnn_features.npy')\n",
    "asins = np.load('models/16k_data_cnn_feature_asins.npy')"
   ]
  },
  {
   "cell_type": "markdown",
   "metadata": {
    "colab_type": "text",
    "id": "WoCoJQnRomHG"
   },
   "source": [
    "## get the most similar apparels using euclidean distance measure"
   ]
  },
  {
   "cell_type": "code",
   "execution_count": 6,
   "metadata": {
    "colab": {},
    "colab_type": "code",
    "id": "0zcx_9DtomHJ"
   },
   "outputs": [],
   "source": [
    "data = pd.read_pickle('pickels/16k_apperal_data_preprocessed')\n",
    "df_asins = list(data['asin'])\n",
    "asins = list(asins)"
   ]
  },
  {
   "cell_type": "code",
   "execution_count": 9,
   "metadata": {
    "colab": {},
    "colab_type": "code",
    "id": "k9vFv5GmomHQ",
    "outputId": "bb29c858-62d8-48b3-f173-af33df28ef85",
    "scrolled": false
   },
   "outputs": [
    {
     "data": {
      "image/jpeg": "[encoded data removed]",
      "text/plain": [
       "<IPython.core.display.Image object>"
      ]
     },
     "metadata": {},
     "output_type": "display_data"
    },
    {
     "name": "stdout",
     "output_type": "stream",
     "text": [
      "Product Title:  fjallraven  womens fjallglim stretch shirt longsleeve chalk white xs \n",
      "Euclidean Distance from input image: 5.3947965e-06\n",
      "Amazon Url: www.amazon.com/dp/B073RTHZRC\n"
     ]
    },
    {
     "data": {
      "image/jpeg": "[encoded data removed]",
      "text/plain": [
       "<IPython.core.display.Image object>"
      ]
     },
     "metadata": {},
     "output_type": "display_data"
    },
    {
     "name": "stdout",
     "output_type": "stream",
     "text": [
      "Product Title:  focal20 white black patchwork blouse fake 2 pieces long sleeve shirt vest shoulder \n",
      "Euclidean Distance from input image: 49.422832\n",
      "Amazon Url: www.amazon.com/dp/B071HLXV6M\n"
     ]
    },
    {
     "data": {
      "image/jpeg": "[encoded data removed]",
      "text/plain": [
       "<IPython.core.display.Image object>"
      ]
     },
     "metadata": {},
     "output_type": "display_data"
    },
    {
     "name": "stdout",
     "output_type": "stream",
     "text": [
      "Product Title:  ladies blue seamless stone set tube top \n",
      "Euclidean Distance from input image: 49.6932\n",
      "Amazon Url: www.amazon.com/dp/B0060Q7E0W\n"
     ]
    },
    {
     "data": {
      "image/jpeg": "[encoded data removed]",
      "text/plain": [
       "<IPython.core.display.Image object>"
      ]
     },
     "metadata": {},
     "output_type": "display_data"
    },
    {
     "name": "stdout",
     "output_type": "stream",
     "text": [
      "Product Title:  focal20 women cute cactus print tshirt short sleeve white tee colorful graphic round neck tops shirt \n",
      "Euclidean Distance from input image: 50.02623\n",
      "Amazon Url: www.amazon.com/dp/B074JXX1X3\n"
     ]
    },
    {
     "data": {
      "image/jpeg": "[encoded data removed]",
      "text/plain": [
       "<IPython.core.display.Image object>"
      ]
     },
     "metadata": {},
     "output_type": "display_data"
    },
    {
     "name": "stdout",
     "output_type": "stream",
     "text": [
      "Product Title:  farysays womens casual cutout shoulder blouse laceup ribbed tops tshirt burgundy l \n",
      "Euclidean Distance from input image: 50.239338\n",
      "Amazon Url: www.amazon.com/dp/B01MF6DSHE\n"
     ]
    },
    {
     "data": {
      "image/jpeg": "[encoded data removed]",
      "text/plain": [
       "<IPython.core.display.Image object>"
      ]
     },
     "metadata": {},
     "output_type": "display_data"
    },
    {
     "name": "stdout",
     "output_type": "stream",
     "text": [
      "Product Title:  fever womens sleeveless blouse red coral large \n",
      "Euclidean Distance from input image: 50.239338\n",
      "Amazon Url: www.amazon.com/dp/B06XQ4ZCJK\n"
     ]
    },
    {
     "data": {
      "image/jpeg": "[encoded data removed]",
      "text/plain": [
       "<IPython.core.display.Image object>"
      ]
     },
     "metadata": {},
     "output_type": "display_data"
    },
    {
     "name": "stdout",
     "output_type": "stream",
     "text": [
      "Product Title:  fmf womens retro vneck graphic tshirtxl white \n",
      "Euclidean Distance from input image: 50.937466\n",
      "Amazon Url: www.amazon.com/dp/B01N9TP2LB\n"
     ]
    },
    {
     "data": {
      "image/jpeg": "[encoded data removed]",
      "text/plain": [
       "<IPython.core.display.Image object>"
      ]
     },
     "metadata": {},
     "output_type": "display_data"
    },
    {
     "name": "stdout",
     "output_type": "stream",
     "text": [
      "Product Title:  fjallraven  womens abisko trail tshirt printed longsleeve dark grey xxs \n",
      "Euclidean Distance from input image: 51.055817\n",
      "Amazon Url: www.amazon.com/dp/B073WL6NH1\n"
     ]
    },
    {
     "data": {
      "image/jpeg": "[encoded data removed]",
      "text/plain": [
       "<IPython.core.display.Image object>"
      ]
     },
     "metadata": {},
     "output_type": "display_data"
    },
    {
     "name": "stdout",
     "output_type": "stream",
     "text": [
      "Product Title:  feel piece terre jacobs hermosa top mediumlarge navy \n",
      "Euclidean Distance from input image: 51.272923\n",
      "Amazon Url: www.amazon.com/dp/B074VXYKZK\n"
     ]
    },
    {
     "data": {
      "image/jpeg": "[encoded data removed]",
      "text/plain": [
       "<IPython.core.display.Image object>"
      ]
     },
     "metadata": {},
     "output_type": "display_data"
    },
    {
     "name": "stdout",
     "output_type": "stream",
     "text": [
      "Product Title:  feel piece womens large ml uneck tank cami top gray l \n",
      "Euclidean Distance from input image: 51.317886\n",
      "Amazon Url: www.amazon.com/dp/B071G16FZL\n"
     ]
    }
   ],
   "source": [
    "import numpy as np\n",
    "import pandas as pd\n",
    "from sklearn.metrics import pairwise_distances\n",
    "from IPython.display import display, Image\n",
    "\n",
    "# Load your preprocessed data\n",
    "data = pd.read_pickle('pickels/16k_apparel_data_preprocessed')\n",
    "asins = data['asin'].tolist()  # Assuming 'asin' is the column with ASINs\n",
    "\n",
    "# Load the bottleneck features\n",
    "bottleneck_features_train = np.load('models/16k_data_cnn_features.npy')\n",
    "\n",
    "def get_similar_products_cnn(doc_id, num_results, bottleneck_features_train):\n",
    "    # Get the index of the document ID in the asins list\n",
    "    doc_id = asins.index(data['asin'].iloc[doc_id])\n",
    "    \n",
    "    # Calculate pairwise distances\n",
    "    pairwise_dist = pairwise_distances(bottleneck_features_train, bottleneck_features_train[doc_id].reshape(1, -1))\n",
    "\n",
    "    # Get the indices of the closest products\n",
    "    indices = np.argsort(pairwise_dist.flatten())[0:num_results]\n",
    "    pdists = np.sort(pairwise_dist.flatten())[0:num_results]\n",
    "\n",
    "    # Display results\n",
    "    for i in range(len(indices)):\n",
    "        rows = data[['medium_image_url', 'title']].loc[data['asin'] == asins[indices[i]]]\n",
    "        for indx, row in rows.iterrows():\n",
    "            display(Image(url=row['medium_image_url'], embed=True))\n",
    "            print('Product Title: ', row['title'])\n",
    "            print('Euclidean Distance from input image:', pdists[i])\n",
    "            print('Amazon Url: www.amazon.com/dp/' + asins[indices[i]])\n",
    "\n",
    "# Call the function with the desired document ID and number of results\n",
    "get_similar_products_cnn(120, 10, bottleneck_features_train)\n",
    "\n"
   ]
  }
 ],
 "metadata": {
  "colab": {
   "name": "image_similarity_cnn.ipynb",
   "provenance": []
  },
  "kernelspec": {
   "display_name": "Python 3",
   "language": "python",
   "name": "python3"
  },
  "language_info": {
   "codemirror_mode": {
    "name": "ipython",
    "version": 3
   },
   "file_extension": ".py",
   "mimetype": "text/x-python",
   "name": "python",
   "nbconvert_exporter": "python",
   "pygments_lexer": "ipython3",
   "version": "3.11.5"
  }
 },
 "nbformat": 4,
 "nbformat_minor": 1
}
